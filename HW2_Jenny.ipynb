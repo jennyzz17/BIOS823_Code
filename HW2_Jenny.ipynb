{
 "cells": [
  {
   "cell_type": "markdown",
   "metadata": {},
   "source": [
    "## Homework 2: Number Theory\n",
    "### Jenny Zhuo"
   ]
  },
  {
   "cell_type": "markdown",
   "metadata": {},
   "source": [
    "The link of my blog is https://jennyzz17.github.io/  \n",
    "On the webpage, please click on the \"Number Theory\" tag in the right \"Tags\" section to see the blog for this assignment.  \n",
    "The Github repository of this Github page is https://github.com/jennyzz17/jennyzz17.github.io  \n",
    "Thank you so much!"
   ]
  },
  {
   "cell_type": "code",
   "execution_count": 1,
   "metadata": {},
   "outputs": [],
   "source": [
    "import decimal\n",
    "import functools\n",
    "from math import floor\n",
    "import operator\n",
    "from mpmath import mp\n",
    "import unittest"
   ]
  },
  {
   "cell_type": "code",
   "execution_count": 2,
   "metadata": {},
   "outputs": [],
   "source": [
    "def math_expand(input_exp, expand_no):\n",
    "    \n",
    "    \"\"\"This function is to \n",
    "    generate an arbitrary \n",
    "    large expansion of a \n",
    "    mathematical expression\"\"\"\n",
    "\n",
    "    mp.dps = expand_no\n",
    "    if input_exp == \"e\":\n",
    "        return(mp.e)\n",
    "    if input_exp == \"pi\":\n",
    "        return (mp.pi)\n"
   ]
  },
  {
   "cell_type": "code",
   "execution_count": 3,
   "metadata": {},
   "outputs": [
    {
     "name": "stdout",
     "output_type": "stream",
     "text": [
      "2.7182818284590452354\n"
     ]
    }
   ],
   "source": [
    "print(math_expand(\"e\",20))"
   ]
  },
  {
   "cell_type": "code",
   "execution_count": 4,
   "metadata": {},
   "outputs": [
    {
     "name": "stderr",
     "output_type": "stream",
     "text": [
      "test_math_expand (__main__.TestNotebook)\n",
      "This function is to ... ok\n",
      "\n",
      "----------------------------------------------------------------------\n",
      "Ran 1 test in 0.001s\n",
      "\n",
      "OK\n"
     ]
    },
    {
     "data": {
      "text/plain": [
       "<unittest.main.TestProgram at 0x7f307e7b1610>"
      ]
     },
     "execution_count": 4,
     "metadata": {},
     "output_type": "execute_result"
    }
   ],
   "source": [
    "class TestNotebook(unittest.TestCase):\n",
    "    \n",
    "    def test_math_expand(self):\n",
    "        \n",
    "        \"\"\"This function is to\n",
    "        test the function of\n",
    "        math_expand\"\"\"\n",
    "        \n",
    "        test_no = str(math_expand(\"e\", 20))\n",
    "        self.assertEqual(test_no, '2.7182818284590452354')\n",
    "\n",
    "unittest.main(argv = [''], verbosity = 2, exit = False)\n"
   ]
  },
  {
   "cell_type": "code",
   "execution_count": 5,
   "metadata": {},
   "outputs": [],
   "source": [
    "def is_prime(input_number):\n",
    "    \n",
    "    \"\"\"This function is to \n",
    "    check whether the input number\n",
    "    is a prime number or not\"\"\"\n",
    "    \n",
    "    if input_number == 1:\n",
    "        return False\n",
    "    for index in range(2, floor(input_number ** 0.5) + 1):\n",
    "        if input_number % index == 0:\n",
    "            return False\n",
    "    return True\n"
   ]
  },
  {
   "cell_type": "code",
   "execution_count": 6,
   "metadata": {},
   "outputs": [
    {
     "name": "stderr",
     "output_type": "stream",
     "text": [
      "test_is_prime (__main__.TestNotebook)\n",
      "This function is to ... ok\n",
      "\n",
      "----------------------------------------------------------------------\n",
      "Ran 1 test in 0.003s\n",
      "\n",
      "OK\n"
     ]
    },
    {
     "data": {
      "text/plain": [
       "<unittest.main.TestProgram at 0x7f307e7b9450>"
      ]
     },
     "execution_count": 6,
     "metadata": {},
     "output_type": "execute_result"
    }
   ],
   "source": [
    "class TestNotebook(unittest.TestCase):\n",
    "    \n",
    "    def test_is_prime(self):\n",
    "        \n",
    "        \"\"\"This function is to\n",
    "        test the function of\n",
    "        is_prime\"\"\"\n",
    "        \n",
    "        test_prime_1 = is_prime(2)\n",
    "        self.assertEqual(test_prime_1, True)\n",
    "        \n",
    "        test_prime_2 = is_prime(199999)\n",
    "        self.assertEqual(test_prime_2, True)\n",
    "\n",
    "unittest.main(argv = [''], verbosity = 2, exit = False)\n"
   ]
  },
  {
   "cell_type": "code",
   "execution_count": 7,
   "metadata": {},
   "outputs": [],
   "source": [
    "def slide_window(input_list, width):\n",
    "        \n",
    "    \"\"\"This function is to \n",
    "    generate sliding windows \n",
    "    of a specified width from \n",
    "    a long iterable\"\"\"\n",
    "    \n",
    "    expanded_part = str(input_list).split('.')[1]\n",
    "    selected_list = []\n",
    "    for index in range(len(expanded_part) - width + 1):\n",
    "        selected_no = int(functools.reduce\n",
    "                          (operator.add, \n",
    "                           expanded_part[index: index + width]))\n",
    "        selected_list.append(selected_no)\n",
    "    \n",
    "    return selected_list\n"
   ]
  },
  {
   "cell_type": "code",
   "execution_count": 8,
   "metadata": {},
   "outputs": [
    {
     "name": "stderr",
     "output_type": "stream",
     "text": [
      "test_slide_window (__main__.TestNotebook)\n",
      "This function is to ... ok\n",
      "\n",
      "----------------------------------------------------------------------\n",
      "Ran 1 test in 0.001s\n",
      "\n",
      "OK\n"
     ]
    },
    {
     "data": {
      "text/plain": [
       "<unittest.main.TestProgram at 0x7f307e75b4d0>"
      ]
     },
     "execution_count": 8,
     "metadata": {},
     "output_type": "execute_result"
    }
   ],
   "source": [
    "class TestNotebook(unittest.TestCase):\n",
    "    \n",
    "    def test_slide_window(self):\n",
    "        \n",
    "        \"\"\"This function is to\n",
    "        test the function of\n",
    "        slide_window\"\"\"\n",
    "        \n",
    "        test_list_1 = 3.123456\n",
    "        window_1 = slide_window(test_list_1, 2)\n",
    "        result_1 = [12, 23, 34, 45, 56]\n",
    "        self.assertEqual(window_1, result_1)\n",
    "\n",
    "unittest.main(argv = [''], verbosity = 2, exit = False)\n"
   ]
  },
  {
   "cell_type": "code",
   "execution_count": 9,
   "metadata": {},
   "outputs": [],
   "source": [
    "def first_ten_prime(math_exp):\n",
    "            \n",
    "    \"\"\"This function is to \n",
    "    combine the above three \n",
    "    sub-functions as a final \n",
    "    one\"\"\"\n",
    "    \n",
    "    output_no = slide_window(math_exp,10)\n",
    "    for ten_digit in output_no:\n",
    "        if is_prime(ten_digit):\n",
    "            return(ten_digit)\n",
    "            break\n"
   ]
  },
  {
   "cell_type": "code",
   "execution_count": 10,
   "metadata": {},
   "outputs": [
    {
     "name": "stderr",
     "output_type": "stream",
     "text": [
      "test_first_ten (__main__.TestNotebook)\n",
      "This function is to ... ok\n",
      "\n",
      "----------------------------------------------------------------------\n",
      "Ran 1 test in 0.014s\n",
      "\n",
      "OK\n"
     ]
    },
    {
     "data": {
      "text/plain": [
       "<unittest.main.TestProgram at 0x7f307e75fed0>"
      ]
     },
     "execution_count": 10,
     "metadata": {},
     "output_type": "execute_result"
    }
   ],
   "source": [
    "class TestNotebook(unittest.TestCase):\n",
    "    \n",
    "    def test_first_ten(self):\n",
    "        \n",
    "        \"\"\"This function is to\n",
    "        test the function of\n",
    "        first_ten_prime\"\"\"\n",
    "        \n",
    "        output_no = first_ten_prime(math_expand(\"e\", 1000))\n",
    "        self.assertEqual(output_no, 7427466391)\n",
    "\n",
    "unittest.main(argv = [''], verbosity = 2, exit = False)\n"
   ]
  },
  {
   "cell_type": "code",
   "execution_count": 11,
   "metadata": {},
   "outputs": [
    {
     "name": "stdout",
     "output_type": "stream",
     "text": [
      "8649375157\n"
     ]
    }
   ],
   "source": [
    "expanded_no = 17 * math_expand(\"pi\", 1000)\n",
    "print(first_ten_prime(expanded_no))"
   ]
  },
  {
   "cell_type": "code",
   "execution_count": null,
   "metadata": {},
   "outputs": [],
   "source": []
  }
 ],
 "metadata": {
  "kernelspec": {
   "display_name": "Python 3",
   "language": "python",
   "name": "python3"
  },
  "language_info": {
   "codemirror_mode": {
    "name": "ipython",
    "version": 3
   },
   "file_extension": ".py",
   "mimetype": "text/x-python",
   "name": "python",
   "nbconvert_exporter": "python",
   "pygments_lexer": "ipython3",
   "version": "3.7.8"
  }
 },
 "nbformat": 4,
 "nbformat_minor": 4
}
