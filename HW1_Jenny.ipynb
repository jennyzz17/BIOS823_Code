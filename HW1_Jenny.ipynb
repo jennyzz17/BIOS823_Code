{
 "cells": [
  {
   "cell_type": "markdown",
   "metadata": {},
   "source": [
    "# Assignment 1\n",
    "## Wenyue (Jenny) Zhuo"
   ]
  },
  {
   "cell_type": "markdown",
   "metadata": {},
   "source": [
    "The link of my blog is https://jennyzz17.github.io/  \n",
    "On the webpage, please click on the \"Math is Fun\" tag on the right \"Tags\" section to see the blog for this assignment.  \n",
    "The Github repository of this Github page is https://github.com/jennyzz17/jennyzz17.github.io  \n",
    "Thank you so much!"
   ]
  },
  {
   "cell_type": "markdown",
   "metadata": {},
   "source": [
    "## Problem 7: 10001st Prime"
   ]
  },
  {
   "cell_type": "code",
   "execution_count": 1,
   "metadata": {},
   "outputs": [],
   "source": [
    "from math import floor"
   ]
  },
  {
   "cell_type": "code",
   "execution_count": 2,
   "metadata": {},
   "outputs": [],
   "source": [
    "def is_prime(input_number):\n",
    "    \n",
    "    \"\"\"This function is to \n",
    "    check whether the input number\n",
    "    is a prime number or not\"\"\"\n",
    "    \n",
    "    if input_number == 1:\n",
    "        return False\n",
    "    for index in range(2, floor(input_number ** 0.5) + 1):\n",
    "        if input_number % index == 0:\n",
    "            return False\n",
    "    return True\n"
   ]
  },
  {
   "cell_type": "code",
   "execution_count": 3,
   "metadata": {},
   "outputs": [],
   "source": [
    "def count_prime(nth_prime):\n",
    "    \n",
    "    \"\"\"This function is to \n",
    "    return the nth prime number\"\"\"\n",
    "    \n",
    "    no_of_primes = 0\n",
    "    prime_number = 1\n",
    "    while no_of_primes < nth_prime:\n",
    "        prime_number += 1\n",
    "        if is_prime(prime_number):\n",
    "            no_of_primes += 1\n",
    "    return prime_number\n"
   ]
  },
  {
   "cell_type": "code",
   "execution_count": 4,
   "metadata": {},
   "outputs": [
    {
     "name": "stdout",
     "output_type": "stream",
     "text": [
      "104743\n"
     ]
    }
   ],
   "source": [
    "print(count_prime(10001))"
   ]
  },
  {
   "cell_type": "markdown",
   "metadata": {},
   "source": [
    "## Problem 50: Consecutive Prime Sum"
   ]
  },
  {
   "cell_type": "code",
   "execution_count": 5,
   "metadata": {},
   "outputs": [
    {
     "name": "stdout",
     "output_type": "stream",
     "text": [
      "997651\n"
     ]
    }
   ],
   "source": [
    "def sum_prime(upper_limit):\n",
    "    \n",
    "    \"\"\"This function is to\n",
    "    find the prime number which can be \n",
    "    written as the sum of the most consecutive\n",
    "    primes\"\"\"\n",
    "    \n",
    "    prime_list = []\n",
    "    index_1 = 2\n",
    "    while sum(prime_list) < upper_limit:\n",
    "        if is_prime(index_1):\n",
    "            prime_list.append(index_1)\n",
    "        index_1 += 1\n",
    "    final_list = []\n",
    "    length = len(prime_list)\n",
    "    index_2 = length\n",
    "    while index_2 != 0:\n",
    "        index_3 = 0\n",
    "        while index_2 + index_3 < length + 1:\n",
    "            selected_list = prime_list[index_3:index_2 + index_3]\n",
    "            if is_prime(sum(selected_list)):\n",
    "                if sum(selected_list) <= upper_limit:\n",
    "                    if len(selected_list) > len(final_list):\n",
    "                        final_list = selected_list\n",
    "            index_3 += 1\n",
    "        index_2 = index_2 - 1\n",
    "    return(sum(final_list))\n",
    "\n",
    "print(sum_prime(1000000))"
   ]
  },
  {
   "cell_type": "markdown",
   "metadata": {},
   "source": [
    "## Problem 68: Magic 5-gon Ring"
   ]
  },
  {
   "cell_type": "code",
   "execution_count": 6,
   "metadata": {},
   "outputs": [
    {
     "name": "stdout",
     "output_type": "stream",
     "text": [
      "6531031914842725\n"
     ]
    }
   ],
   "source": [
    "given_numbers = list(range(1, 11))\n",
    "\n",
    "def concatenate(a, b, c, d, e, f, g, h, i, j):\n",
    "\n",
    "    \"\"\"This function is to\n",
    "    concatenate each group to form 16-digit strings\n",
    "    based on the number filled in,\n",
    "    so we can find the maximum\"\"\"\n",
    "    \n",
    "    outer_number = {a:0, d:1, f:2, h:3, j:4}\n",
    "    break_number = outer_number[min(outer_number.keys())]\n",
    "    number_pairs = [(a,b,c), (d,c,e), (f,e,g), (h,g,i), (j,i,b)]\n",
    "    number_pairs = number_pairs[break_number:] + number_pairs[:break_number]\n",
    "    string = ''\n",
    "    for no_pair in number_pairs:\n",
    "        for no in no_pair:\n",
    "            string += str(no)\n",
    "    return string\n",
    "\n",
    "pair_list = []\n",
    "\n",
    "for a in given_numbers:\n",
    "    list_b = given_numbers[:]\n",
    "    list_b.remove(a)\n",
    "    \n",
    "    for b in list_b:\n",
    "        list_c = list_b[:]\n",
    "        list_c.remove(b)\n",
    "\n",
    "        for c in list_c:\n",
    "            line_sum = a + b + c\n",
    "            list_d = list_c[:]\n",
    "            list_d.remove(c)\n",
    "\n",
    "            for d in list_d:\n",
    "                list_e = list_d[:]\n",
    "                list_e.remove(d)\n",
    "                e = line_sum - c - d\n",
    " \n",
    "                if e in list_e:\n",
    "                    list_f = list_e[:]\n",
    "                    list_f.remove(e)\n",
    "\n",
    "                    for f in list_f:\n",
    "                        list_g = list_f[:]\n",
    "                        list_g.remove(f)\n",
    "                        g = line_sum - e - f\n",
    " \n",
    "                        if g in list_g:\n",
    "                            list_h = list_g[:]\n",
    "                            list_h.remove(g)\n",
    "                \n",
    "                            for h in list_h:\n",
    "                                list_i = list_h[:]\n",
    "                                list_i.remove(h)\n",
    "                                i = line_sum - g - h\n",
    "                                \n",
    "                                if i in list_i:\n",
    "                                    list_j = list_i[:]\n",
    "                                    list_j.remove(i)\n",
    "                                    j = line_sum - i - b\n",
    "                                    \n",
    "                                    if j in list_j:\n",
    "                                        pair = concatenate(a, b, c, d, e, f, g, h, i, j)\n",
    "                                        pair_list.append(pair)\n",
    "\n",
    "list_16 = filter(lambda x: len(x) == 16, pair_list)\n",
    "\n",
    "result_digit = max([int(element) for element in list_16])\n",
    "\n",
    "print (result_digit)"
   ]
  },
  {
   "cell_type": "code",
   "execution_count": null,
   "metadata": {},
   "outputs": [],
   "source": []
  }
 ],
 "metadata": {
  "kernelspec": {
   "display_name": "Python 3",
   "language": "python",
   "name": "python3"
  },
  "language_info": {
   "codemirror_mode": {
    "name": "ipython",
    "version": 3
   },
   "file_extension": ".py",
   "mimetype": "text/x-python",
   "name": "python",
   "nbconvert_exporter": "python",
   "pygments_lexer": "ipython3",
   "version": "3.7.8"
  }
 },
 "nbformat": 4,
 "nbformat_minor": 4
}
